{
 "cells": [
  {
   "cell_type": "code",
   "execution_count": null,
   "metadata": {},
   "outputs": [],
   "source": [
    "from crontab import CronTab\n",
    "empty_cron    = CronTab()"
   ]
  },
  {
   "cell_type": "code",
   "execution_count": 7,
   "metadata": {},
   "outputs": [
    {
     "ename": "TypeError",
     "evalue": "__init__() missing 1 required positional argument: 'crontab'",
     "output_type": "error",
     "traceback": [
      "\u001b[0;31m---------------------------------------------------------------------------\u001b[0m",
      "\u001b[0;31mTypeError\u001b[0m                                 Traceback (most recent call last)",
      "\u001b[0;32m<ipython-input-7-63ac8fa039d4>\u001b[0m in \u001b[0;36m<module>\u001b[0;34m\u001b[0m\n\u001b[0;32m----> 1\u001b[0;31m \u001b[0mCronTab\u001b[0m\u001b[0;34m(\u001b[0m\u001b[0;34m)\u001b[0m\u001b[0;34m\u001b[0m\u001b[0m\n\u001b[0m",
      "\u001b[0;31mTypeError\u001b[0m: __init__() missing 1 required positional argument: 'crontab'"
     ]
    }
   ],
   "source": [
    "CronTab()"
   ]
  },
  {
   "cell_type": "code",
   "execution_count": 1,
   "metadata": {},
   "outputs": [],
   "source": [
    "from croniter import croniter\n",
    "from datetime import datetime"
   ]
  },
  {
   "cell_type": "code",
   "execution_count": 8,
   "metadata": {},
   "outputs": [
    {
     "name": "stdout",
     "output_type": "stream",
     "text": [
      "2019-10-30 13:55:00.286434\n",
      "2019-10-30 00:00:00\n"
     ]
    }
   ],
   "source": [
    "\n",
    "print(now)\n",
    "print(base)"
   ]
  },
  {
   "cell_type": "code",
   "execution_count": 25,
   "metadata": {},
   "outputs": [
    {
     "name": "stdout",
     "output_type": "stream",
     "text": [
      "current time reach\n",
      "288\n",
      "0.013812332064844668\n"
     ]
    }
   ],
   "source": [
    "import timeit\n",
    "import time\n",
    "\n",
    "base = datetime(2019, 10, 30, 0, 0,0)\n",
    "# now = datetime.now()\n",
    "now = datetime(2019, 10, 31, 0, 0,0)\n",
    "iter = croniter('*/5 * * * *', base) # every 5 minutes\n",
    "limit = 10000\n",
    "count = 0\n",
    "start = timeit.default_timer()\n",
    "while True:\n",
    "    next_run = iter.get_next(datetime)\n",
    "    if next_run > now:\n",
    "        print(\"current time reach\")\n",
    "        break\n",
    "    count = count + 1\n",
    "    if count>=limit:\n",
    "        print(\"limit reach, break the loop\")\n",
    "        break\n",
    "print(count)\n",
    "stop = timeit.default_timer()\n",
    "print(stop-start)"
   ]
  },
  {
   "cell_type": "code",
   "execution_count": 23,
   "metadata": {},
   "outputs": [
    {
     "name": "stdout",
     "output_type": "stream",
     "text": [
      "0\n",
      "current time reach\n",
      "169\n",
      "1\n",
      "current time reach\n",
      "169\n",
      "2\n",
      "current time reach\n",
      "169\n",
      "3\n",
      "current time reach\n",
      "169\n",
      "4\n",
      "current time reach\n",
      "169\n",
      "5\n",
      "current time reach\n",
      "169\n",
      "6\n",
      "current time reach\n",
      "169\n",
      "7\n",
      "current time reach\n",
      "169\n",
      "8\n",
      "current time reach\n",
      "169\n",
      "9\n",
      "current time reach\n",
      "169\n",
      "10\n",
      "current time reach\n",
      "169\n",
      "11\n",
      "current time reach\n",
      "169\n",
      "12\n",
      "current time reach\n",
      "169\n",
      "13\n",
      "current time reach\n",
      "169\n",
      "14\n",
      "current time reach\n",
      "169\n",
      "15\n",
      "current time reach\n",
      "169\n",
      "16\n",
      "current time reach\n",
      "169\n",
      "17\n",
      "current time reach\n",
      "169\n",
      "18\n",
      "current time reach\n",
      "169\n",
      "19\n",
      "current time reach\n",
      "169\n",
      "0.16053997993003577\n"
     ]
    }
   ],
   "source": [
    "import timeit\n",
    "import time\n",
    "\n",
    "def run_job():\n",
    "    base = datetime(2019, 10, 30, 0, 0,0)\n",
    "    now = datetime.now()\n",
    "    iter = croniter('*/5 * * * *', base) # every 5 minutes\n",
    "    limit = 10000\n",
    "    count = 0\n",
    "    while True:\n",
    "        next_run = iter.get_next(datetime)\n",
    "        if next_run > now:\n",
    "            print(\"current time reach\")\n",
    "            break\n",
    "        count = count + 1\n",
    "        if count>=limit:\n",
    "            print(\"limit reach, break the loop\")\n",
    "            break\n",
    "    print(count)\n",
    "    \n",
    "    \n",
    "start = timeit.default_timer()\n",
    "for i in range(0,20):\n",
    "    print(i)\n",
    "    run_job()\n",
    "stop = timeit.default_timer()\n",
    "print(stop-start)"
   ]
  },
  {
   "cell_type": "code",
   "execution_count": 26,
   "metadata": {},
   "outputs": [
    {
     "name": "stdout",
     "output_type": "stream",
     "text": [
      "288\n",
      "0.000660661025904119\n"
     ]
    }
   ],
   "source": [
    "from crontab import CronTab\n",
    "start = timeit.default_timer()\n",
    "cron    = CronTab()\n",
    "job = cron.new()\n",
    "job.setall('*/5 * * * *')\n",
    "print(job.frequency_per_day())\n",
    "stop = timeit.default_timer()\n",
    "print(stop-start)"
   ]
  },
  {
   "cell_type": "code",
   "execution_count": 30,
   "metadata": {},
   "outputs": [
    {
     "name": "stdout",
     "output_type": "stream",
     "text": [
      "current time reach\n",
      "288\n",
      "0.013692445936612785\n"
     ]
    }
   ],
   "source": [
    "import timeit\n",
    "import time\n",
    "\n",
    "base = datetime(2019, 10, 30, 0, 0,0)\n",
    "# now = datetime.now()\n",
    "now = datetime(2019, 10, 31, 0, 0,0)\n",
    "iter = croniter('*/5 * * * *', base) # every 5 minutes\n",
    "limit = 10000\n",
    "count = 0\n",
    "start = timeit.default_timer()\n",
    "while True:\n",
    "    next_run = iter.get_next(datetime)\n",
    "    if next_run > now:\n",
    "        print(\"current time reach\")\n",
    "        break\n",
    "    count = count + 1\n",
    "    if count>=limit:\n",
    "        print(\"limit reach, break the loop\")\n",
    "        break\n",
    "print(count)\n",
    "stop = timeit.default_timer()\n",
    "print(stop-start)"
   ]
  }
 ],
 "metadata": {
  "kernelspec": {
   "display_name": "Python 3",
   "language": "python",
   "name": "python3"
  },
  "language_info": {
   "codemirror_mode": {
    "name": "ipython",
    "version": 3
   },
   "file_extension": ".py",
   "mimetype": "text/x-python",
   "name": "python",
   "nbconvert_exporter": "python",
   "pygments_lexer": "ipython3",
   "version": "3.7.0"
  }
 },
 "nbformat": 4,
 "nbformat_minor": 2
}
